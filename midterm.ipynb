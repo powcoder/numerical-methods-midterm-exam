{
 "cells": [
  {
   "cell_type": "code",
   "execution_count": 1,
   "metadata": {
    "collapsed": true
   },
   "outputs": [],
   "source": [
    "%matplotlib inline\n",
    "from __future__ import print_function\n",
    "import numpy\n",
    "import matplotlib.pyplot as plt"
   ]
  },
  {
   "cell_type": "markdown",
   "metadata": {
    "deletable": false,
    "editable": false,
    "nbgrader": {
     "checksum": "e7d4f676e912240d816ed4854077ce55",
     "grade": false,
     "grade_id": "H1",
     "locked": true,
     "schema_version": 1,
     "solution": false
    }
   },
   "source": [
    "Before you turn this problem in, make sure everything runs as expected. First, restart the kernel (in the menubar, select Kernel $\\rightarrow$ Restart) and then run all cells (in the menubar, select Cell $\\rightarrow$ Run All).\n",
    "\n",
    "Make sure you fill in any place that says YOUR CODE HERE or \"YOUR ANSWER HERE\", as well as your name and collaborators below:"
   ]
  },
  {
   "cell_type": "markdown",
   "metadata": {
    "deletable": false,
    "editable": false,
    "nbgrader": {
     "checksum": "7f611cc4d777b437b330bd00226cf5cc",
     "grade": false,
     "grade_id": "H2",
     "locked": true,
     "schema_version": 1,
     "solution": false
    }
   },
   "source": [
    "# Midterm - Fall Semester 2018\n",
    "\n",
    "Guidelines:\n",
    "1. Use resources available to you from class and online.\n",
    "1. That being said this is an individual effort, do not work with others and cite what you do use.\n",
    "1. Copying is prohibited, write your own code and solutions.\n",
    "1. Do not use campuswire for the duration of the exam!  \n",
    "1. If you have a question please email the instructor and the TAs for maximal response possibilities.  We will answer questions that pertain only to clarification.\n",
    "1. Late turn in of the midterm will result in a 10% reduction every HOUR that it is late.  If you feel that there is a special circumstance that warrants consideration tells us BEFORE the Tuesday (and more so before the exam starts).\n",
    "\n",
    "Good luck!"
   ]
  },
  {
   "cell_type": "markdown",
   "metadata": {
    "deletable": false,
    "editable": false,
    "nbgrader": {
     "checksum": "f7deda953938462f84354365e4663e34",
     "grade": false,
     "grade_id": "cell-7bafbad016915",
     "locked": true,
     "schema_version": 1,
     "solution": false
    }
   },
   "source": [
    "## Question 1\n",
    "\n",
    "Consider the three following three points:\n",
    "$$\n",
    "    x_i, x_i + \\frac{\\Delta x}{3}, ~\\text{and}~ x_i + \\frac{\\Delta x}{2}.\n",
    "$$"
   ]
  },
  {
   "cell_type": "markdown",
   "metadata": {
    "deletable": false,
    "editable": false,
    "nbgrader": {
     "checksum": "d06da59f66a9422b1c49813bff89e717",
     "grade": false,
     "grade_id": "cell-7bafbadf55016915",
     "locked": true,
     "schema_version": 1,
     "solution": false
    }
   },
   "source": [
    "**(a)** [10] Derive a finite difference approximation to the first derivative of maximal order with these points.  Also determine the leading error term."
   ]
  },
  {
   "cell_type": "markdown",
   "metadata": {
    "deletable": false,
    "nbgrader": {
     "checksum": "e8cdc7a6fb9aeaabf163d7952bc30749",
     "grade": true,
     "grade_id": "cell-7bafbad55016915",
     "locked": false,
     "points": 10,
     "schema_version": 1,
     "solution": true
    }
   },
   "source": [
    "YOUR ANSWER HERE"
   ]
  },
  {
   "cell_type": "markdown",
   "metadata": {
    "deletable": false,
    "editable": false,
    "nbgrader": {
     "checksum": "fc18497d51844b4db1ed78471a61a327",
     "grade": false,
     "grade_id": "cell-77be4333349ff086",
     "locked": true,
     "schema_version": 1,
     "solution": false
    }
   },
   "source": [
    "**(b)** [10] Derive a quadrature rule using the same points again defining the weights such that the resulting rule is of maximal order."
   ]
  },
  {
   "cell_type": "markdown",
   "metadata": {
    "deletable": false,
    "nbgrader": {
     "checksum": "669a61091ddc08d5659ae7fd22c497cd",
     "grade": true,
     "grade_id": "cell-f77422b8813b2315",
     "locked": false,
     "points": 10,
     "schema_version": 1,
     "solution": true
    }
   },
   "source": [
    "YOUR ANSWER HERE"
   ]
  },
  {
   "cell_type": "markdown",
   "metadata": {
    "deletable": false,
    "editable": false,
    "nbgrader": {
     "checksum": "c3bfdbb2f16aecee6020fb3c449e55cf",
     "grade": false,
     "grade_id": "cell-634de354cdcd8105",
     "locked": true,
     "schema_version": 1,
     "solution": false
    }
   },
   "source": [
    "**(c)** [5] Confirm the order of convergence for both methods you derived by plotting the results vs. an expected convergence rate.  Make sure to define your \"sense\" of error and pick an appropriate test function to demonstrate the convergence."
   ]
  },
  {
   "cell_type": "code",
   "execution_count": null,
   "metadata": {
    "collapsed": true,
    "deletable": false,
    "nbgrader": {
     "checksum": "52cb10e4d353e330c44e4e5e11531292",
     "grade": true,
     "grade_id": "cell-5e09a169d6733d54",
     "locked": false,
     "points": 5,
     "schema_version": 1,
     "solution": true
    }
   },
   "outputs": [],
   "source": [
    "# YOUR CODE HERE\n",
    "raise NotImplementedError()"
   ]
  },
  {
   "cell_type": "markdown",
   "metadata": {
    "deletable": false,
    "editable": false,
    "nbgrader": {
     "checksum": "8544841089d8a43677e17d498fb2ffda",
     "grade": false,
     "grade_id": "cell-746c415c8a6336f5",
     "locked": true,
     "schema_version": 1,
     "solution": false
    }
   },
   "source": [
    "## Question 2\n",
    "\n",
    "Bernoulli's equation for fluid flow in an open channel with a small bump is\n",
    "$$\n",
    "    \\frac{F^2}{2 g w^2 h_0^2} + h_0 = \\frac{F^2}{2 g w^2 h^2} + h + H\n",
    "$$\n",
    "where $F$ is the volume of rate flow ($m^3/s$), $g$ is gravitational acceleration ($m/s^2$), $w$ the width of the channel ($m$), $h_0$ the upstream water level ($m$), $H$ the height of the bump ($m$), and $h$ is the water level above the bump ($m$).  "
   ]
  },
  {
   "cell_type": "markdown",
   "metadata": {
    "deletable": false,
    "editable": false,
    "nbgrader": {
     "checksum": "926430d45bb364feff7443a10e97529b",
     "grade": false,
     "grade_id": "cell-b9768fe3d22ba527",
     "locked": true,
     "schema_version": 1,
     "solution": false
    }
   },
   "source": [
    "**(a)** [6] We are trying to find the value $h$ given the values $F, g, w, h_0, ~\\text{and}~ H$ using a root finding procedure.  Reformulate Bernoulli's equation so that the problem has the form required to treat it as a root finding problem.  We will also eventually want to apply Newton's method so also find the derivative that we will need to use.  For this case use the following values as constants:\n",
    "$$\n",
    "    F=1.2, g=9.81, w=2.5, h_0=2.3, H=1.0\n",
    "$$\n"
   ]
  },
  {
   "cell_type": "markdown",
   "metadata": {
    "deletable": false,
    "nbgrader": {
     "checksum": "9935ae00d009e292b9327e99eb5e0820",
     "grade": true,
     "grade_id": "cell-1cc4d51cc51e944d",
     "locked": false,
     "points": 6,
     "schema_version": 1,
     "solution": true
    }
   },
   "source": [
    "Answer:\n",
    "$$\n",
    "(\\frac{F^2}{2 g w^2 h_0^2} + h_0)h^2  = \\frac{F^2}{2 g w^2 } + h^3 + Hh^2 \\\\\n",
    "h^3 + (H - \\frac{F^2}{2 g w^2 h_0^2} - h_0 )h^2  +  \\frac{F^2}{2 g w^2 }  = 0 \\\\\n",
    "f(h) = h^3 + (H - \\frac{F^2}{2 g w^2 h_0^2} - h_0 )h^2  +  \\frac{F^2}{2 g w^2 } \\\\\n",
    "f'(h) = 3h^2 + 2 (H - \\frac{F^2}{2 g w^2 h_0^2} - h_0 ) h\n",
    "$$"
   ]
  },
  {
   "cell_type": "markdown",
   "metadata": {
    "deletable": false,
    "editable": false,
    "nbgrader": {
     "checksum": "8ba8643f539430320ad93ab714be4d89",
     "grade": false,
     "grade_id": "cell-7f26710589c0ba1a",
     "locked": true,
     "schema_version": 1,
     "solution": false
    }
   },
   "source": [
    "**(b)** [7] Write a set of functions that use the bisection method and Newton's method to find the roots of the functions you formulated in part (a).  Make sure to handle the case where the method does not converge."
   ]
  },
  {
   "cell_type": "code",
   "execution_count": 48,
   "metadata": {
    "collapsed": true,
    "deletable": false,
    "nbgrader": {
     "checksum": "468b29b7478dffd19df9b1460ef47c7c",
     "grade": false,
     "grade_id": "cell-0dd5b26848727e56",
     "locked": false,
     "schema_version": 1,
     "solution": true
    }
   },
   "outputs": [],
   "source": [
    "F=1.2\n",
    "g=9.81\n",
    "w=2.5\n",
    "h_0=2.3\n",
    "H=1.0\n",
    "\n",
    "C0 = (F**2) / (2*g*(w**2))\n",
    "C2 = H - C0 / (h_0**2) - h_0\n",
    "\n",
    "def f(h):\n",
    "    return h**3 + C2 * (h**2) + C0\n",
    "\n",
    "def df(h):\n",
    "    return 3*(h**2) + 2*C2*h\n",
    "\n",
    "# Bisection Method\n",
    "def bisection(bracket, tolerance=1e-6, max_steps=100):\n",
    "    r\"\"\"Use the bisection method to find a root for Bernoulli's equation\n",
    "    \n",
    "    :Input:\n",
    "     - *bracket* (array) Initial bracket to use for the bisection method.\n",
    "     - *tolerance* (float) Convergence criteria.\n",
    "     - *max_steps* (int) Number of steps to stop at if the convergence loop \n",
    "     \n",
    "    :Output: x, n\n",
    "     - *x* (float) The root as computed to the given tolerance.\n",
    "     - *n* (int) Number of steps taken to find the root to the given tolerance.\n",
    "     \n",
    "    Function will raise an *ArithmeticError* if the loop does not converge before the specified\n",
    "    number of *max_steps*.\n",
    "    \"\"\"\n",
    "    # YOUR CODE HERE\n",
    "    x, y = bracket\n",
    "    for i in range(1, max_steps + 1):\n",
    "        \n",
    "        z = (x + y) / 2.0\n",
    "        if  numpy.abs(f(z)) < tolerance:\n",
    "            \n",
    "            return z, i\n",
    "        \n",
    "        if numpy.sign(f(z)) == numpy.sign(f(x)):\n",
    "            x = z\n",
    "        else:\n",
    "            y = z\n",
    "    \n",
    "    raise ArithmeticError()\n",
    "\n",
    "    \n",
    "# Newton's Method\n",
    "def newton(h_0, tolerance=1e-6, max_steps=100):\n",
    "    r\"\"\"Use Newton's method to find a root for Bernoulli's equation\n",
    "    \n",
    "    :Input:\n",
    "     - *h_0* (float) Initial guess for the Newton iteration.\n",
    "     - *tolerance* (float) Convergence criteria.\n",
    "     - *max_steps* (int) Number of steps to stop at if the convergence loop \n",
    "     \n",
    "    :Output: x, n\n",
    "     - *x* (float) The root as computed to the given tolerance.\n",
    "     - *n* (int) Number of steps taken to find the root to the given tolerance.\n",
    "     \n",
    "    Function will raise an *ArithmeticError* if the loop does not converge before the specified\n",
    "    number of *max_steps*.\n",
    "    \"\"\"\n",
    "    # YOUR CODE HERE\n",
    "    x = h_0\n",
    "    for i in range(1, max_steps + 1):\n",
    "        y = f(x)\n",
    "        dy = df(x)\n",
    "        \n",
    "        if abs(dy) < tolerance:\n",
    "            break\n",
    "        \n",
    "        nx = x - y / dy\n",
    "        \n",
    "        if abs(nx - x) <= abs(tolerance * x):\n",
    "            return nx, i\n",
    "        \n",
    "        x = nx\n",
    "        \n",
    "    raise ArithmeticError()"
   ]
  },
  {
   "cell_type": "code",
   "execution_count": 54,
   "metadata": {
    "collapsed": false,
    "deletable": false,
    "editable": false,
    "nbgrader": {
     "checksum": "9957545987ef9e66bdb312d38dca3cd4",
     "grade": true,
     "grade_id": "cell-a5ca3e76fee1fb4d",
     "locked": true,
     "points": 7,
     "schema_version": 1,
     "solution": false
    }
   },
   "outputs": [
    {
     "name": "stdout",
     "output_type": "stream",
     "text": [
      "Success!\n"
     ]
    }
   ],
   "source": [
    "brackets = [[0.05, 1.0], [1.0, 2.0]]\n",
    "true_value = [0.09878249410539865, 1.295219898223877]\n",
    "for (i, bracket) in enumerate(brackets):\n",
    "    numpy.testing.assert_allclose(bisection(bracket, tolerance=1e-8)[0], true_value[i], atol=1e-8)\n",
    "    numpy.testing.assert_allclose(newton(bracket[0], tolerance=1e-8)[0], true_value[i], atol=1e-3)\n",
    "try:\n",
    "    bisection([2.0, 3.0])\n",
    "    newton(10.0)\n",
    "except ArithmeticError as e:\n",
    "    pass\n",
    "else:\n",
    "    assert(False)\n",
    "print(\"Success!\")"
   ]
  },
  {
   "cell_type": "markdown",
   "metadata": {
    "deletable": false,
    "editable": false,
    "nbgrader": {
     "checksum": "1be6ce1757924e5b7530d273064a64f7",
     "grade": false,
     "grade_id": "cell-f0618d3ea4802c75",
     "locked": true,
     "schema_version": 1,
     "solution": false
    }
   },
   "source": [
    "**(c)** [6] Plot your results for both of the brackets defined in the testing cell above providing some visual proof that you have found the correct value of the root."
   ]
  },
  {
   "cell_type": "code",
   "execution_count": 70,
   "metadata": {
    "collapsed": false,
    "deletable": false,
    "nbgrader": {
     "checksum": "35f31deb5deb32d4fe21169e76e6d1c0",
     "grade": true,
     "grade_id": "cell-eb1909b04ef48b2e",
     "locked": false,
     "points": 6,
     "schema_version": 1,
     "solution": true
    }
   },
   "outputs": [
    {
     "data": {
      "text/plain": [
       "<matplotlib.text.Text at 0x106555048>"
      ]
     },
     "execution_count": 70,
     "metadata": {},
     "output_type": "execute_result"
    },
    {
     "data": {
      "image/png": "[encoded data removed]",
      "text/plain": [
       "<matplotlib.figure.Figure at 0x1067c6390>"
      ]
     },
     "metadata": {},
     "output_type": "display_data"
    }
   ],
   "source": [
    "# YOUR CODE HERE\n",
    "x = numpy.linspace(0, 2)\n",
    "y = f(x)\n",
    "s0 = bisection(brackets[0])[0]\n",
    "s1 = bisection(brackets[1])[0]\n",
    "\n",
    "n0 = newton(brackets[0][0])[0]\n",
    "n1 = newton(brackets[1][0])[0]\n",
    "\n",
    "plt.plot(x, y)\n",
    "plt.plot(x, numpy.zeros(x.shape[0]))\n",
    "plt.plot([s0, s1], [f(s0), f(s1)], 'ko')\n",
    "plt.plot([n0, n1], [f(n0), f(n1)], 'ko')\n",
    "plt.xlabel('h')\n",
    "plt.ylabel('f')\n",
    "plt.title(\"visual proof\")"
   ]
  },
  {
   "cell_type": "markdown",
   "metadata": {
    "deletable": false,
    "editable": false,
    "nbgrader": {
     "checksum": "ccf733424d30280c913bf8987f5cdcc9",
     "grade": false,
     "grade_id": "cell-4ffd2a03997e251e",
     "locked": true,
     "schema_version": 1,
     "solution": false
    }
   },
   "source": [
    "**(d)** [6] Now compare the convergence of the methods you wrote.  Plot the tolerance vs. the number of steps used to reach the tolerance for both the bisection method and Newton's method you implemented.  Comment on the results.  Make sure to label the axis, use a title, and provide a legend."
   ]
  },
  {
   "cell_type": "code",
   "execution_count": 75,
   "metadata": {
    "collapsed": false,
    "deletable": false,
    "nbgrader": {
     "checksum": "66d23cf26a8798cb4d07e52a312780f2",
     "grade": true,
     "grade_id": "cell-ebd76c25ab842f61",
     "locked": false,
     "points": 3,
     "schema_version": 1,
     "solution": true
    },
    "scrolled": true
   },
   "outputs": [
    {
     "data": {
      "text/plain": [
       "<matplotlib.legend.Legend at 0x1094a0940>"
      ]
     },
     "execution_count": 75,
     "metadata": {},
     "output_type": "execute_result"
    },
    {
     "data": {
      "image/png": "[encoded data removed]",
      "text/plain": [
       "<matplotlib.figure.Figure at 0x10adf0a90>"
      ]
     },
     "metadata": {},
     "output_type": "display_data"
    }
   ],
   "source": [
    "# YOUR CODE HERE\n",
    "tol = 10**(-numpy.linspace(2, 10))\n",
    "numIterBisec = [bisection(brackets[0], tolerance=x)[1] for x in tol]\n",
    "\n",
    "numIterNewton = [newton(brackets[0][0], tolerance=x)[1] for x in tol]\n",
    "\n",
    "plt.semilogx(tol, numIterBisec)\n",
    "plt.semilogx(tol, numIterNewton)\n",
    "plt.xlabel(\"tolerance\")\n",
    "plt.ylabel(\"number of steps\")\n",
    "plt.title(\"tolerance vs the number of steps\")\n",
    "plt.legend([\"bisection\", \"newton\"])\n",
    "\n",
    "# raise NotImplementedError()"
   ]
  },
  {
   "cell_type": "markdown",
   "metadata": {
    "deletable": false,
    "nbgrader": {
     "checksum": "fd4d5736ed9e55fcdd423954bbc14be6",
     "grade": true,
     "grade_id": "cell-b3420447ef7cd979",
     "locked": false,
     "points": 3,
     "schema_version": 1,
     "solution": true
    }
   },
   "source": [
    "Answer:\n",
    "\n",
    "From above plot, we can see that with increasing tolerance, both methods use fewer steps.\n",
    "However, the number of steps decrease much more for bisection than for the newton method.\n",
    "Tolerance has much more impact on the number of steps of bisection than on the newton method.\n"
   ]
  },
  {
   "cell_type": "markdown",
   "metadata": {
    "deletable": false,
    "editable": false,
    "nbgrader": {
     "checksum": "715cd4fa54cabde436a476170799bd34",
     "grade": false,
     "grade_id": "cell-8eb0e6e138eb3266",
     "locked": true,
     "schema_version": 1,
     "solution": false
    }
   },
   "source": [
    "## Question 3\n",
    "Given two functions $f(x)$ and $g(x)$ and their interpolants $\\mathcal{P}_n(x)$ and $\\mathcal{Q}_m(x)$ respectively determine the following analytically given that $n \\geq m$."
   ]
  },
  {
   "cell_type": "markdown",
   "metadata": {
    "deletable": false,
    "editable": false,
    "nbgrader": {
     "checksum": "b942df13efa6da7e50bb01bdde083035",
     "grade": false,
     "grade_id": "Q4-a",
     "locked": true,
     "schema_version": 1,
     "solution": false
    }
   },
   "source": [
    "**(a)** [10] Let $x_i \\in X_f$ be the coordinates that define $\\mathcal{P}_n(x)$ and $x_j \\in X_g$ be the coordinates that define $\\mathcal{Q}_m(x)$.  What conditions on the $X_f$, $X_g$, $n$ and $m$ must we place on these such that $\\mathcal{P}_n(x) + \\mathcal{Q}_m(x)$ is the interpolating polynomial for $f(x) + g(x)$?"
   ]
  },
  {
   "cell_type": "markdown",
   "metadata": {
    "deletable": false,
    "nbgrader": {
     "checksum": "6c56d3605587b6deee162b3bace30d16",
     "grade": true,
     "grade_id": "A4-a",
     "locked": false,
     "points": 10,
     "schema_version": 1,
     "solution": true
    }
   },
   "source": [
    "YOUR ANSWER HERE"
   ]
  },
  {
   "cell_type": "markdown",
   "metadata": {
    "deletable": false,
    "editable": false,
    "nbgrader": {
     "checksum": "744ccb3f7d7ee2b0aa21ce899548f1b7",
     "grade": false,
     "grade_id": "Q4-b",
     "locked": true,
     "schema_version": 1,
     "solution": false
    }
   },
   "source": [
    "**(b)** [5] Given the previous constraints on $X_f$, $X_g$, $n$ and $m$, find the order of the interpolating polynomial $\\mathcal{P}_n(x) + \\mathcal{Q}_m(x)$ and an error bound."
   ]
  },
  {
   "cell_type": "markdown",
   "metadata": {
    "deletable": false,
    "nbgrader": {
     "checksum": "fa5aa367a62016e610f75a6c0133f716",
     "grade": true,
     "grade_id": "A4-b",
     "locked": false,
     "points": 5,
     "schema_version": 1,
     "solution": true
    }
   },
   "source": [
    "YOUR ANSWER HERE"
   ]
  },
  {
   "cell_type": "markdown",
   "metadata": {
    "deletable": false,
    "editable": false,
    "nbgrader": {
     "checksum": "682312558d654ecc1a3da15c3aa61c81",
     "grade": false,
     "grade_id": "Q4-c",
     "locked": true,
     "schema_version": 1,
     "solution": false
    }
   },
   "source": [
    "**(c)** [10] Let $x_i \\in X_f$ be the coordinates that define $\\mathcal{P}_n(x)$ and $x_j \\in X_g$ be the coordinates that define $\\mathcal{Q}_m(x)$.  What condition on the $X_f$, $X_g$, $n$ and $m$ must we place on these such that $\\mathcal{P}_n(x) \\cdot \\mathcal{Q}_m(x)$ is the interpolating polynomial for $f(x) \\cdot g(x)$"
   ]
  },
  {
   "cell_type": "markdown",
   "metadata": {
    "deletable": false,
    "nbgrader": {
     "checksum": "81de6f04e219864b9b5f5aebd94fcaa4",
     "grade": true,
     "grade_id": "A4-c",
     "locked": false,
     "points": 10,
     "schema_version": 1,
     "solution": true
    }
   },
   "source": [
    "YOUR ANSWER HERE"
   ]
  },
  {
   "cell_type": "markdown",
   "metadata": {
    "deletable": false,
    "editable": false,
    "nbgrader": {
     "checksum": "6f7cf399dbf4c3c2515925ffa56af02c",
     "grade": false,
     "grade_id": "cell-5fe15c79028b0fe5",
     "locked": true,
     "schema_version": 1,
     "solution": false
    }
   },
   "source": [
    "## Question 4\n",
    "\n",
    "[25] You are an instructor tasked with explaining how floating point error can enter into numerical approximations in a given field (choose your favorite).  Outline a short lecture (~10 minutes) making sure to relate it to your field of choice and find two illustrative examples.  Here we are looking for specific examples from your own field and how you might relate the issues faced to your interests.  Whichever field you do address make sure to define the problems of interest.  You are of course free to use the lecture notes as jumping off-point but make sure to relate to your topic of interest.  Given the open ended nature of this problem feel free to ask the TAs or instructor questions about appropriate scope and anything else that comes up."
   ]
  },
  {
   "cell_type": "markdown",
   "metadata": {
    "deletable": false,
    "nbgrader": {
     "checksum": "b9ed7e4ddbb2acf07af1c7a45ada8c3c",
     "grade": true,
     "grade_id": "cell-dc8834a8d72b2640",
     "locked": false,
     "points": 25,
     "schema_version": 1,
     "solution": true
    }
   },
   "source": [
    "YOUR ANSWER HERE"
   ]
  },
  {
   "cell_type": "code",
   "execution_count": null,
   "metadata": {
    "collapsed": true,
    "deletable": false,
    "nbgrader": {
     "checksum": "dbdb5009292fd9670256dd7eb9886fc1",
     "grade": true,
     "grade_id": "cell-138c7f2a5678d47e",
     "locked": false,
     "points": 0,
     "schema_version": 1,
     "solution": true
    }
   },
   "outputs": [],
   "source": [
    "# YOUR CODE HERE\n",
    "raise NotImplementedError()"
   ]
  }
 ],
 "metadata": {
  "kernelspec": {
   "display_name": "Python 3",
   "language": "python",
   "name": "python3"
  },
  "language_info": {
   "codemirror_mode": {
    "name": "ipython",
    "version": 3
   },
   "file_extension": ".py",
   "mimetype": "text/x-python",
   "name": "python",
   "nbconvert_exporter": "python",
   "pygments_lexer": "ipython3",
   "version": "3.5.4"
  }
 },
 "nbformat": 4,
 "nbformat_minor": 2
}
